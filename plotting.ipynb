{
 "cells": [
  {
   "cell_type": "markdown",
   "metadata": {},
   "source": [
    "# Season Plotting\n",
    "\n",
    "__*python=3.6*__\n",
    "\n",
    "> Created by: [tilseb](tilseb@dtu.dk)\n",
    ">\n",
    "> Date: 2018-05-23"
   ]
  },
  {
   "cell_type": "markdown",
   "metadata": {},
   "source": [
    "## Description\n",
    "\n",
    "The following script plots time series data from the main Balmorel Input Exel file (Data.xlsm), including solar power production (spp), variable electricity demand (ved), variable heat demand (vhd) and variable wind generation (vwg) for the year 2016. Considered countries are Denmark (DK), Germany (DE), Norway (NO) and Sweden (SE).\n",
    "\n",
    "The user can decide, which seasons (weeks) and termns (hours) to plot and highlight. By default all 52 seasons per year and all 168 terms per season are plotted and every 24th term is highlighted to indicate the length of one day.\n",
    "\n",
    "Each commodity is plotted for all countries and vice versa. The respective output directories are created, if not already existing."
   ]
  },
  {
   "cell_type": "markdown",
   "metadata": {},
   "source": [
    "## Content\n",
    "- Import required packages\n",
    "- Plot settings\n",
    "- Read input files\n",
    "- Format data frames\n",
    "- Make directories\n",
    "- Plot per commodity\n",
    "- Plot per country"
   ]
  },
  {
   "cell_type": "markdown",
   "metadata": {},
   "source": [
    "## Import Required Packages"
   ]
  },
  {
   "cell_type": "code",
   "execution_count": null,
   "metadata": {},
   "outputs": [],
   "source": [
    "# Imports\n",
    "import os\n",
    "import pandas as pd\n",
    "import numpy as np\n",
    "import matplotlib.pyplot as plt"
   ]
  },
  {
   "cell_type": "markdown",
   "metadata": {},
   "source": [
    "## Plot Settings"
   ]
  },
  {
   "cell_type": "code",
   "execution_count": null,
   "metadata": {},
   "outputs": [],
   "source": [
    "# Set plotting specifications\n",
    "% matplotlib inline\n",
    "plt.rcParams.update({'font.size': 21})\n",
    "plt.rcParams['xtick.major.pad']='12'\n",
    "plt.rc('legend', fontsize=16)\n",
    "y_limit = 1.1\n",
    "lw = 3"
   ]
  },
  {
   "cell_type": "markdown",
   "metadata": {},
   "source": [
    "## Read Input Files"
   ]
  },
  {
   "cell_type": "code",
   "execution_count": null,
   "metadata": {},
   "outputs": [],
   "source": [
    "# Read the solar power production from Data.xlsm\n",
    "spp = pd.read_excel('input/Data.xlsm', sheet_name='43', header=11, skipfooter=8793)"
   ]
  },
  {
   "cell_type": "code",
   "execution_count": null,
   "metadata": {},
   "outputs": [],
   "source": [
    "# Read the variation of electricity demand from Data.xlsm\n",
    "ved = pd.read_excel('input/Data.xlsm', sheet_name='51', usecols='A:W', header=12, skipfooter=4)"
   ]
  },
  {
   "cell_type": "code",
   "execution_count": null,
   "metadata": {},
   "outputs": [],
   "source": [
    "# Read the variation of heat demand from Data.xlsm\n",
    "vhd = pd.read_excel('input/Data.xlsm', sheet_name='52', usecols='A:AO', header=6, skipfooter=16)"
   ]
  },
  {
   "cell_type": "code",
   "execution_count": null,
   "metadata": {},
   "outputs": [],
   "source": [
    "# Read the variation of wind generation from Data.xlsm\n",
    "vwg = pd.read_excel('input/Data.xlsm', sheet_name='53', usecols='A:Y', header=13, skipfooter=10)"
   ]
  },
  {
   "cell_type": "markdown",
   "metadata": {},
   "source": [
    "## Format Data Frames"
   ]
  },
  {
   "cell_type": "code",
   "execution_count": null,
   "metadata": {},
   "outputs": [],
   "source": [
    "# Make a list of all considered ountries\n",
    "ccc = ['DK', 'DE', 'NO', 'SE']"
   ]
  },
  {
   "cell_type": "markdown",
   "metadata": {},
   "source": [
    "### Solar Power Production"
   ]
  },
  {
   "cell_type": "code",
   "execution_count": null,
   "metadata": {},
   "outputs": [],
   "source": [
    "# Make columns for seasons and terms\n",
    "spp['season'] = spp.index.str.split('.').str[0]\n",
    "spp['term'] = spp.index.str.split('.').str[1]"
   ]
  },
  {
   "cell_type": "code",
   "execution_count": null,
   "metadata": {},
   "outputs": [],
   "source": [
    "# Divide each number of each countries columns by it's annual maximum \n",
    "for c in ccc[:2]:\n",
    "    for i in spp[spp.columns[spp.columns.str.contains(c)==True]].columns:\n",
    "        spp[i] /= spp[i].max()"
   ]
  },
  {
   "cell_type": "code",
   "execution_count": null,
   "metadata": {},
   "outputs": [],
   "source": [
    "# Make columns with country average\n",
    "spp['DK'] = spp[spp.columns[spp.columns.str.contains('DK')==True]].sum(axis=1)\n",
    "spp['DE'] = spp[spp.columns[spp.columns.str.contains('DE')==True]].sum(axis=1)"
   ]
  },
  {
   "cell_type": "code",
   "execution_count": null,
   "metadata": {},
   "outputs": [],
   "source": [
    "# Divide each number by each countries annual maximum\n",
    "for c in ccc[:2]:\n",
    "    spp[c] /= spp[c].max()"
   ]
  },
  {
   "cell_type": "markdown",
   "metadata": {},
   "source": [
    "### Variation of Electricity Demand"
   ]
  },
  {
   "cell_type": "code",
   "execution_count": null,
   "metadata": {},
   "outputs": [],
   "source": [
    "# Make columns for seasons and terms\n",
    "ved['season'] = ved.index.str.split('.').str[0]\n",
    "ved['term'] = ved.index.str.split('.').str[1]"
   ]
  },
  {
   "cell_type": "code",
   "execution_count": null,
   "metadata": {},
   "outputs": [],
   "source": [
    "# Divide each number of each countries columns by it's annual maximum \n",
    "for c in ccc:\n",
    "    for i in ved[ved.columns[ved.columns.str.contains(c)==True]].columns:\n",
    "        ved[i] /= ved[i].max()"
   ]
  },
  {
   "cell_type": "code",
   "execution_count": null,
   "metadata": {},
   "outputs": [],
   "source": [
    "# Make columns with country sums\n",
    "for c in ccc:\n",
    "    ved[c] = ved[ved.columns[ved.columns.str.contains(c)==True]].sum(axis=1)"
   ]
  },
  {
   "cell_type": "code",
   "execution_count": null,
   "metadata": {},
   "outputs": [],
   "source": [
    "# Divide each number by each countries annual maximum\n",
    "for c in ccc:\n",
    "    ved[c] /= ved[c].max()"
   ]
  },
  {
   "cell_type": "markdown",
   "metadata": {},
   "source": [
    "### Variation of Heat Demand"
   ]
  },
  {
   "cell_type": "code",
   "execution_count": null,
   "metadata": {},
   "outputs": [],
   "source": [
    "# Make columns for seasons and terms\n",
    "vhd['season'] = vhd.index.str.split('.').str[0]\n",
    "vhd['term'] = vhd.index.str.split('.').str[1]"
   ]
  },
  {
   "cell_type": "code",
   "execution_count": null,
   "metadata": {},
   "outputs": [],
   "source": [
    "# Divide each number of each countries columns by it's annual maximum \n",
    "for c in ccc:\n",
    "    for i in vhd[vhd.columns[vhd.columns.str.contains(c)==True]].columns:\n",
    "        vhd[i] /= vhd[i].max()"
   ]
  },
  {
   "cell_type": "code",
   "execution_count": null,
   "metadata": {},
   "outputs": [],
   "source": [
    "# Make columns with country sums\n",
    "for c in ccc:\n",
    "    vhd[c] = vhd[vhd.columns[vhd.columns.str.contains(c)==True]].sum(axis=1)"
   ]
  },
  {
   "cell_type": "code",
   "execution_count": null,
   "metadata": {},
   "outputs": [],
   "source": [
    "# Divide each number by each countries annual maximum\n",
    "for c in ccc:\n",
    "    vhd[c] /= vhd[c].max()"
   ]
  },
  {
   "cell_type": "markdown",
   "metadata": {},
   "source": [
    "### Variation of Wind Generation"
   ]
  },
  {
   "cell_type": "code",
   "execution_count": null,
   "metadata": {},
   "outputs": [],
   "source": [
    "# Make columns for seasons and terms\n",
    "vwg['season'] = vwg.index.str.split('.').str[0]\n",
    "vwg['term'] = vwg.index.str.split('.').str[1]"
   ]
  },
  {
   "cell_type": "code",
   "execution_count": null,
   "metadata": {},
   "outputs": [],
   "source": [
    "# Divide each number of each countries columns by it's annual maximum \n",
    "for c in ccc:\n",
    "    for i in vwg[vwg.columns[vwg.columns.str.contains(c)==True]].columns:\n",
    "        vwg[i] /= vwg[i].max()"
   ]
  },
  {
   "cell_type": "code",
   "execution_count": null,
   "metadata": {},
   "outputs": [],
   "source": [
    "# Make columns with country sums\n",
    "for c in ccc:\n",
    "    vwg[c] = vwg[vwg.columns[vwg.columns.str.contains(c)==True]].sum(axis=1)"
   ]
  },
  {
   "cell_type": "code",
   "execution_count": null,
   "metadata": {},
   "outputs": [],
   "source": [
    "# Divide each number by each countries annual maximum\n",
    "for c in ccc:\n",
    "    vwg[c] /= vwg[c].max()"
   ]
  },
  {
   "cell_type": "markdown",
   "metadata": {},
   "source": [
    "## Select Seasons"
   ]
  },
  {
   "cell_type": "code",
   "execution_count": null,
   "metadata": {},
   "outputs": [],
   "source": [
    "# Make a list of all seasons\n",
    "sss = list(spp.season.unique())"
   ]
  },
  {
   "cell_type": "code",
   "execution_count": null,
   "metadata": {},
   "outputs": [],
   "source": [
    "# Seasons to investigate\n",
    "# season_names = ['S01', 'S07', 'S20', 'S24', 'S28', 'S38', 'S42', 'S43']"
   ]
  },
  {
   "cell_type": "code",
   "execution_count": null,
   "metadata": {},
   "outputs": [],
   "source": [
    "# Make a list of every nth element of sss (1 <= nth <= 52)\n",
    "nth = 1\n",
    "s = sss[0::nth]\n",
    "\n",
    "# Or select seasons by names\n",
    "# s = season_names"
   ]
  },
  {
   "cell_type": "markdown",
   "metadata": {},
   "source": [
    "## Select Terms"
   ]
  },
  {
   "cell_type": "code",
   "execution_count": null,
   "metadata": {},
   "outputs": [],
   "source": [
    "# Make a list of all Terms per season\n",
    "ttt = list(spp.term.unique())"
   ]
  },
  {
   "cell_type": "code",
   "execution_count": null,
   "metadata": {},
   "outputs": [],
   "source": [
    "# Terms to investigate\n",
    "# term_names = ['T005', 'T019', 'T033', 'T047', 'T061', 'T075', 'T089', 'T103', 'T117', 'T131', 'T145', 'T159']"
   ]
  },
  {
   "cell_type": "code",
   "execution_count": null,
   "metadata": {},
   "outputs": [],
   "source": [
    "# Make a list of every nth element of ttt (1 <= nth <= 168)\n",
    "nth = 1\n",
    "t = ttt[0::nth]\n",
    "\n",
    "# Or select terms by name\n",
    "# t = term_names"
   ]
  },
  {
   "cell_type": "markdown",
   "metadata": {},
   "source": [
    "## Make Directories"
   ]
  },
  {
   "cell_type": "code",
   "execution_count": null,
   "metadata": {},
   "outputs": [],
   "source": [
    "# Make output folder\n",
    "if not os.path.isdir('output'):\n",
    "    os.makedirs('output')"
   ]
  },
  {
   "cell_type": "code",
   "execution_count": null,
   "metadata": {},
   "outputs": [],
   "source": [
    "# Make spp folder\n",
    "if not os.path.isdir('output/pv_production'):\n",
    "    os.makedirs('output/pv_production')"
   ]
  },
  {
   "cell_type": "code",
   "execution_count": null,
   "metadata": {},
   "outputs": [],
   "source": [
    "# Make ved folder\n",
    "if not os.path.isdir('output/electricity_demand'):\n",
    "    os.makedirs('output/electricity_demand')"
   ]
  },
  {
   "cell_type": "code",
   "execution_count": null,
   "metadata": {},
   "outputs": [],
   "source": [
    "# Make vhd folder\n",
    "if not os.path.isdir('output/heat_demand'):\n",
    "    os.makedirs('output/heat_demand')"
   ]
  },
  {
   "cell_type": "code",
   "execution_count": null,
   "metadata": {},
   "outputs": [],
   "source": [
    "# Make vwg folder\n",
    "if not os.path.isdir('output/wind_generation'):\n",
    "    os.makedirs('output/wind_generation')"
   ]
  },
  {
   "cell_type": "code",
   "execution_count": null,
   "metadata": {},
   "outputs": [],
   "source": [
    "# Make country folders\n",
    "for c in ccc:\n",
    "    if not os.path.isdir('output/' + c):\n",
    "        os.makedirs('output/' + c)"
   ]
  },
  {
   "cell_type": "markdown",
   "metadata": {},
   "source": [
    "## Plotting"
   ]
  },
  {
   "cell_type": "code",
   "execution_count": null,
   "metadata": {},
   "outputs": [],
   "source": [
    "# Make data frames to plot\n",
    "spp_plot = spp[(spp.season.isin(s)) & (spp.term.isin(t))]\n",
    "ved_plot = ved[(ved.season.isin(s)) & (ved.term.isin(t))]\n",
    "vhd_plot = vhd[(vhd.season.isin(s)) & (vhd.term.isin(t))]\n",
    "vwg_plot = vwg[(vwg.season.isin(s)) & (vwg.term.isin(t))]"
   ]
  },
  {
   "cell_type": "code",
   "execution_count": null,
   "metadata": {},
   "outputs": [],
   "source": [
    "# Set indices to terms\n",
    "spp_plot.set_index('term', inplace=True)\n",
    "ved_plot.set_index('term', inplace=True)\n",
    "vhd_plot.set_index('term', inplace=True)\n",
    "vwg_plot.set_index('term', inplace=True)"
   ]
  },
  {
   "cell_type": "code",
   "execution_count": null,
   "metadata": {},
   "outputs": [],
   "source": [
    "# Create vertical bars per step\n",
    "steps = 24\n",
    "t_selected = spp_plot.index.unique()[0::steps]\n",
    "t_marker = np.arange(0, len(t), steps)\n",
    "\n",
    "# Or mark selected terms\n",
    "# t_selected = term_names\n",
    "# t_marker = np.arange(0, len(t), steps)"
   ]
  },
  {
   "cell_type": "markdown",
   "metadata": {},
   "source": [
    "### Plot per Commodity "
   ]
  },
  {
   "cell_type": "markdown",
   "metadata": {},
   "source": [
    "#### Solar Power Production"
   ]
  },
  {
   "cell_type": "code",
   "execution_count": null,
   "metadata": {
    "scrolled": false
   },
   "outputs": [],
   "source": [
    "for i in s:\n",
    "    spp_plot[spp_plot.season.isin([i])][ccc[:2]].plot(figsize=(16,9), lw=lw)\n",
    "    plt.ylim([0, y_limit])\n",
    "    plt.legend(loc=1)\n",
    "    plt.title('PV Production' + ' - ' + i)\n",
    "    plt.xlabel('Terms')\n",
    "    plt.xticks(t_marker, t_selected, rotation=45)\n",
    "    for x_pos in t_marker:\n",
    "        plt.axvline(x=x_pos, c='black', lw=6, alpha=0.3)\n",
    "    plt.tight_layout()\n",
    "    plt.savefig('output/pv_production/spp_' + i + '.png', compression=None)\n",
    "    # plt.show()\n",
    "    plt.close()\n",
    "plt.close()"
   ]
  },
  {
   "cell_type": "markdown",
   "metadata": {},
   "source": [
    "#### Variation of Electricity Demand"
   ]
  },
  {
   "cell_type": "code",
   "execution_count": null,
   "metadata": {
    "scrolled": true
   },
   "outputs": [],
   "source": [
    "for i in s:\n",
    "    ved_plot[ved_plot.season.isin([i])][ccc].plot(figsize=(16,9), lw=lw)\n",
    "    plt.ylim([0, y_limit])\n",
    "    plt.legend(loc=1)\n",
    "    plt.title('Electricity Demand' + ' - ' + i)\n",
    "    plt.xlabel('Terms')\n",
    "    plt.xticks(t_marker, t_selected, rotation=45)\n",
    "    for x_pos in t_marker:\n",
    "        plt.axvline(x=x_pos, c='black', lw=6, alpha=0.3)\n",
    "    plt.tight_layout()\n",
    "    plt.savefig('output/electricity_demand/ved_' + i + '.png', compression=None)\n",
    "    # plt.show()\n",
    "    plt.close()\n",
    "plt.close()"
   ]
  },
  {
   "cell_type": "markdown",
   "metadata": {},
   "source": [
    "#### Variation of Heat Demand"
   ]
  },
  {
   "cell_type": "code",
   "execution_count": null,
   "metadata": {
    "scrolled": false
   },
   "outputs": [],
   "source": [
    "for i in s:\n",
    "    vhd_plot[vhd_plot.season.isin([i])][ccc].plot(figsize=(16,9), lw=lw)\n",
    "    plt.ylim([0, y_limit])\n",
    "    plt.legend(loc=1)\n",
    "    plt.title('Heat Demand' + ' - ' + i)\n",
    "    plt.xlabel('Terms')\n",
    "    plt.xticks(t_marker, t_selected, rotation=45)\n",
    "    for x_pos in t_marker:\n",
    "        plt.axvline(x=x_pos, c='black', lw=6, alpha=0.3)\n",
    "    plt.tight_layout()\n",
    "    plt.savefig('output/heat_demand/vhd_' + i + '.png', compression=None)\n",
    "    # plt.show()\n",
    "    plt.close()\n",
    "plt.close()"
   ]
  },
  {
   "cell_type": "markdown",
   "metadata": {},
   "source": [
    "#### Variation of Wind Generation"
   ]
  },
  {
   "cell_type": "code",
   "execution_count": null,
   "metadata": {
    "scrolled": false
   },
   "outputs": [],
   "source": [
    "for i in s:\n",
    "    vwg_plot[vwg_plot.season.isin([i])][ccc].plot(figsize=(16,9), lw=lw)\n",
    "    plt.ylim([0, y_limit])\n",
    "    plt.legend(loc=1)\n",
    "    plt.title('Wind Generation' + ' - ' + i)\n",
    "    plt.xlabel('Terms')\n",
    "    plt.xticks(t_marker, t_selected, rotation=45)\n",
    "    for x_pos in t_marker:\n",
    "        plt.axvline(x=x_pos, c='black', lw=6, alpha=0.3)\n",
    "    plt.tight_layout()\n",
    "    plt.savefig('output/wind_generation/vwg_' + i + '.png', compression=None)\n",
    "    # plt.show()\n",
    "    plt.close()\n",
    "plt.close()"
   ]
  },
  {
   "cell_type": "markdown",
   "metadata": {},
   "source": [
    "### Per Country"
   ]
  },
  {
   "cell_type": "code",
   "execution_count": null,
   "metadata": {
    "scrolled": false
   },
   "outputs": [],
   "source": [
    "for c in ccc:\n",
    "    for i in s:\n",
    "        if c in spp.columns:\n",
    "            ax = spp_plot[spp_plot.season.isin([i])][c].plot(figsize=(16,9), label='pv', lw=lw, color=['yellow'])\n",
    "        ax = ved_plot[ved_plot.season.isin([i])][c].plot(figsize=(16,9), label='elec', lw=lw, color=['green'])\n",
    "        ax = vhd_plot[vhd_plot.season.isin([i])][c].plot(figsize=(16,9), label='heat', lw=lw, color=['red'])\n",
    "        ax = vwg_plot[vwg_plot.season.isin([i])][c].plot(figsize=(16,9), label='wind', lw=lw, color=['cyan'])\n",
    "        plt.ylim([0, y_limit])\n",
    "        plt.legend(loc=1)\n",
    "        plt.title(c + ' - ' + i)\n",
    "        plt.xlabel('Terms')\n",
    "        plt.xticks(t_marker, t_selected, rotation=45)\n",
    "        for x_pos in t_marker:\n",
    "            plt.axvline(x=x_pos, c='black', lw=6, alpha=0.3)\n",
    "        plt.tight_layout()\n",
    "        plt.savefig('output/' + c + '/' + c + '_' + i + '.png', compression=None)\n",
    "        # plt.show()\n",
    "        plt.close()\n",
    "    plt.close()\n",
    "plt.close()"
   ]
  }
 ],
 "metadata": {
  "kernelspec": {
   "display_name": "Python 3",
   "language": "python",
   "name": "python3"
  },
  "language_info": {
   "codemirror_mode": {
    "name": "ipython",
    "version": 3
   },
   "file_extension": ".py",
   "mimetype": "text/x-python",
   "name": "python",
   "nbconvert_exporter": "python",
   "pygments_lexer": "ipython3",
   "version": "3.6.5"
  }
 },
 "nbformat": 4,
 "nbformat_minor": 2
}
