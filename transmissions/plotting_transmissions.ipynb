{
 "cells": [
  {
   "cell_type": "markdown",
   "metadata": {},
   "source": [
    "# Transmission Capacity Map\n",
    "> __*Python 3.6*__\n",
    ">\n",
    "> Author: [tilseb](tilseb@dtu.dk)\n",
    ">\n",
    "> Date: 2018-05-29"
   ]
  },
  {
   "cell_type": "markdown",
   "metadata": {},
   "source": [
    "## Content\n",
    "- Script setup\n",
    "- Directories\n",
    "- Read files\n",
    "- Data preparation\n",
    "- Plotting"
   ]
  },
  {
   "cell_type": "markdown",
   "metadata": {},
   "source": [
    "## Script Setup"
   ]
  },
  {
   "cell_type": "code",
   "execution_count": null,
   "metadata": {
    "collapsed": true
   },
   "outputs": [],
   "source": [
    "import os\n",
    "import pandas as pd\n",
    "import matplotlib.pyplot as plt\n",
    "import matplotlib.image as mpimg\n",
    "\n",
    "% matplotlib inline\n",
    "plt.rcParams.update({'font.size': 24})"
   ]
  },
  {
   "cell_type": "markdown",
   "metadata": {},
   "source": [
    "## Directories"
   ]
  },
  {
   "cell_type": "code",
   "execution_count": null,
   "metadata": {
    "collapsed": true
   },
   "outputs": [],
   "source": [
    "# Make output directory\n",
    "if not os.path.isdir('output'):\n",
    "    os.makedirs('output')"
   ]
  },
  {
   "cell_type": "markdown",
   "metadata": {},
   "source": [
    "## Read Files"
   ]
  },
  {
   "cell_type": "markdown",
   "metadata": {},
   "source": [
    "### Country Map\n",
    "\n",
    "> The image was created from country shape files with the software [QGIS](https://qgis.org/en/site/).\n",
    ">\n",
    "> The shape file source: https://gadm.org/download_country_v3.html"
   ]
  },
  {
   "cell_type": "code",
   "execution_count": null,
   "metadata": {
    "collapsed": true
   },
   "outputs": [],
   "source": [
    "# Country map to plot the transmission arrows on\n",
    "img = mpimg.imread('input/c(DE-DK-NO-SE).png')"
   ]
  },
  {
   "cell_type": "markdown",
   "metadata": {},
   "source": [
    "### Transmission Data"
   ]
  },
  {
   "cell_type": "code",
   "execution_count": null,
   "metadata": {
    "collapsed": true
   },
   "outputs": [],
   "source": [
    "# Exogenous transmission capacities in 2025 per region [MW]\n",
    "rtc = pd.read_excel('input/data/ExogenousTransmissionCapacity.xlsx',\n",
    "                    pars_cols='B:R',\n",
    "                    header=3)"
   ]
  },
  {
   "cell_type": "code",
   "execution_count": null,
   "metadata": {
    "collapsed": true
   },
   "outputs": [],
   "source": [
    "# Transmission 2016 [GWh]\n",
    "td = pd.read_excel('input/data/TransmissionSampleData.xlsx',\n",
    "                    parse_cols='B:F',\n",
    "                    skiprows=[16],\n",
    "                    header=11,\n",
    "                    index_col=0)"
   ]
  },
  {
   "cell_type": "code",
   "execution_count": null,
   "metadata": {
    "collapsed": true
   },
   "outputs": [],
   "source": [
    "# Transmission 2020 [GWh], late sprint\n",
    "tl_2020 = pd.read_csv('input/data/trans_2020_ls.csv', encoding='utf8', index_col=0)"
   ]
  },
  {
   "cell_type": "code",
   "execution_count": null,
   "metadata": {
    "collapsed": true
   },
   "outputs": [],
   "source": [
    "# Transmission 2030 [GWh], late sprint\n",
    "tl_2030 = pd.read_csv('input/data/trans_2030_ls.csv', encoding='utf8', index_col=0)"
   ]
  },
  {
   "cell_type": "code",
   "execution_count": null,
   "metadata": {
    "collapsed": true
   },
   "outputs": [],
   "source": [
    "# Transmission 2040 [GWh], late sprint\n",
    "tl_2040 = pd.read_csv('input/data/trans_2040_ls.csv', encoding='utf8', index_col=0)"
   ]
  },
  {
   "cell_type": "code",
   "execution_count": null,
   "metadata": {
    "collapsed": true
   },
   "outputs": [],
   "source": [
    "# Transmission 2050 [GWh], late sprint\n",
    "tl_2050 = pd.read_csv('input/data/trans_2050_ls.csv', encoding='utf8', index_col=0)"
   ]
  },
  {
   "cell_type": "code",
   "execution_count": null,
   "metadata": {
    "collapsed": true
   },
   "outputs": [],
   "source": [
    "# Transmission 2020 [GWh], marathon\n",
    "tm_2020 = pd.read_csv('input/data/trans_2020_m.csv', encoding='utf8', index_col=0)"
   ]
  },
  {
   "cell_type": "code",
   "execution_count": null,
   "metadata": {
    "collapsed": true
   },
   "outputs": [],
   "source": [
    "# Transmission 2030 [GWh], marathon\n",
    "tm_2030 = pd.read_csv('input/data/trans_2030_m.csv', encoding='utf8', index_col=0)"
   ]
  },
  {
   "cell_type": "code",
   "execution_count": null,
   "metadata": {
    "collapsed": true
   },
   "outputs": [],
   "source": [
    "# Transmission 2040 [GWh], marathon\n",
    "tm_2040 = pd.read_csv('input/data/trans_2040_m.csv', encoding='utf8', index_col=0)"
   ]
  },
  {
   "cell_type": "code",
   "execution_count": null,
   "metadata": {
    "collapsed": true
   },
   "outputs": [],
   "source": [
    "# Transmission 2050 [GWh], marathon\n",
    "tm_2050 = pd.read_csv('input/data/trans_2050_m.csv', encoding='utf8', index_col=0)"
   ]
  },
  {
   "cell_type": "markdown",
   "metadata": {},
   "source": [
    "### Arrow Positions"
   ]
  },
  {
   "cell_type": "code",
   "execution_count": null,
   "metadata": {
    "collapsed": true
   },
   "outputs": [],
   "source": [
    "# Arrow positions per country combinations\n",
    "arrows = pd.read_csv('input/data/arrow_positions.csv', encoding='utf8', index_col=[0,1])"
   ]
  },
  {
   "cell_type": "markdown",
   "metadata": {},
   "source": [
    "## Data Preparation"
   ]
  },
  {
   "cell_type": "code",
   "execution_count": null,
   "metadata": {
    "collapsed": true
   },
   "outputs": [],
   "source": [
    "# List of countries\n",
    "ccc = td.columns"
   ]
  },
  {
   "cell_type": "markdown",
   "metadata": {},
   "source": [
    "### Exogenous Transmission Capacities 2025"
   ]
  },
  {
   "cell_type": "code",
   "execution_count": null,
   "metadata": {
    "collapsed": true
   },
   "outputs": [],
   "source": [
    "# Clean up rct\n",
    "rtc = rtc.set_index('Export Region')\n",
    "rtc = rtc.drop(['Year'], axis=1)"
   ]
  },
  {
   "cell_type": "code",
   "execution_count": null,
   "metadata": {
    "collapsed": true
   },
   "outputs": [],
   "source": [
    "# Make an empty dataframe for the transmission capacities between the countries\n",
    "ctc = pd.DataFrame(columns=ccc, index=ccc)"
   ]
  },
  {
   "cell_type": "code",
   "execution_count": null,
   "metadata": {
    "collapsed": true
   },
   "outputs": [],
   "source": [
    "# Fill ctc with the sums of rct\n",
    "for c in ccc:\n",
    "    notc = ccc[ccc!=c]\n",
    "    for n in notc:\n",
    "        ctc[c][n] = float(rtc.loc[:, rtc.columns.str.contains(c)==True][rtc.index.str.contains(n)].sum().sum())"
   ]
  },
  {
   "cell_type": "code",
   "execution_count": null,
   "metadata": {
    "collapsed": true
   },
   "outputs": [],
   "source": [
    "# Convert MW to GW\n",
    "ctc /= 1000"
   ]
  },
  {
   "cell_type": "code",
   "execution_count": null,
   "metadata": {
    "collapsed": true
   },
   "outputs": [],
   "source": [
    "# Fill NaNs with zeros\n",
    "ctc = ctc.fillna(0)"
   ]
  },
  {
   "cell_type": "code",
   "execution_count": null,
   "metadata": {
    "collapsed": true
   },
   "outputs": [],
   "source": [
    "# Round\n",
    "ctc = ctc.round(1)"
   ]
  },
  {
   "cell_type": "code",
   "execution_count": null,
   "metadata": {
    "collapsed": true
   },
   "outputs": [],
   "source": [
    "# Dataframe for alpha values (transparency)\n",
    "ctc_alpha = ctc ** (1/3)\n",
    "ctc_alpha = ctc_alpha / ctc_alpha.max().max()"
   ]
  },
  {
   "cell_type": "markdown",
   "metadata": {},
   "source": [
    "### Transmission 2016 "
   ]
  },
  {
   "cell_type": "code",
   "execution_count": null,
   "metadata": {
    "collapsed": true
   },
   "outputs": [],
   "source": [
    "# Convert from GWh to TWh\n",
    "td /= 1000"
   ]
  },
  {
   "cell_type": "code",
   "execution_count": null,
   "metadata": {
    "collapsed": true
   },
   "outputs": [],
   "source": [
    "# Fill NaNs with zeros\n",
    "td = td.fillna(0)"
   ]
  },
  {
   "cell_type": "code",
   "execution_count": null,
   "metadata": {
    "collapsed": true
   },
   "outputs": [],
   "source": [
    "# Normalized the data\n",
    "td_norm = td ** (10/11)\n",
    "td_norm = td_norm.round(1)"
   ]
  },
  {
   "cell_type": "code",
   "execution_count": null,
   "metadata": {
    "collapsed": true
   },
   "outputs": [],
   "source": [
    "# Dataframe for alpha values (transparency)\n",
    "td_alpha = td ** (1/3)\n",
    "td_alpha = td_alpha / td_alpha.max().max()"
   ]
  },
  {
   "cell_type": "markdown",
   "metadata": {},
   "source": [
    "### Transmission Late Sprint"
   ]
  },
  {
   "cell_type": "code",
   "execution_count": null,
   "metadata": {
    "collapsed": true
   },
   "outputs": [],
   "source": [
    "# tl_2020\n",
    "tl_2020 /= 1000\n",
    "tl_2020_norm = tl_2020 ** (10/11)\n",
    "tl_2020_norm = tl_2020_norm.round(1)\n",
    "tl_2020_alpha = tl_2020 ** (1/3)\n",
    "tl_2020_alpha = tl_2020_alpha / tl_2020_alpha.max().max()"
   ]
  },
  {
   "cell_type": "code",
   "execution_count": null,
   "metadata": {
    "collapsed": true
   },
   "outputs": [],
   "source": [
    "# tl_2030\n",
    "tl_2030 /= 1000\n",
    "tl_2030_norm = tl_2030 ** (10/11)\n",
    "tl_2030_norm = tl_2030_norm.round(1)\n",
    "tl_2030_alpha = tl_2030 ** (1/3)\n",
    "tl_2030_alpha = tl_2030_alpha / tl_2030_alpha.max().max()"
   ]
  },
  {
   "cell_type": "code",
   "execution_count": null,
   "metadata": {
    "collapsed": true
   },
   "outputs": [],
   "source": [
    "# tl_2040\n",
    "tl_2040 /= 1000\n",
    "tl_2040_norm = tl_2040 ** (10/11)\n",
    "tl_2040_norm = tl_2040_norm.round(1)\n",
    "tl_2040_alpha = tl_2040 ** (1/3)\n",
    "tl_2040_alpha = tl_2040_alpha / tl_2040_alpha.max().max()"
   ]
  },
  {
   "cell_type": "code",
   "execution_count": null,
   "metadata": {
    "collapsed": true
   },
   "outputs": [],
   "source": [
    "# tl_2050\n",
    "tl_2050 /= 1000\n",
    "tl_2050_norm = tl_2050 ** (10/11)\n",
    "tl_2050_norm = tl_2050_norm.round(1)\n",
    "tl_2050_alpha = tl_2050 ** (1/3)\n",
    "tl_2050_alpha = tl_2050_alpha / tl_2050_alpha.max().max()"
   ]
  },
  {
   "cell_type": "markdown",
   "metadata": {},
   "source": [
    "### Transmission Marathon"
   ]
  },
  {
   "cell_type": "code",
   "execution_count": null,
   "metadata": {
    "collapsed": true
   },
   "outputs": [],
   "source": [
    "# tm_2020\n",
    "tm_2020 /= 1000\n",
    "tm_2020_norm = tm_2020 ** (10/11)\n",
    "tm_2020_norm = tm_2020_norm.round(1)\n",
    "tm_2020_alpha = tm_2020 ** (1/3)\n",
    "tm_2020_alpha = tm_2020_alpha / tm_2020_alpha.max().max()"
   ]
  },
  {
   "cell_type": "code",
   "execution_count": null,
   "metadata": {
    "collapsed": true
   },
   "outputs": [],
   "source": [
    "# tm_2030\n",
    "tm_2030 /= 1000\n",
    "tm_2030_norm = tm_2030 ** (10/11)\n",
    "tm_2030_norm = tm_2030_norm.round(1)\n",
    "tm_2030_alpha = tm_2030 ** (1/3)\n",
    "tm_2030_alpha = tm_2030_alpha / tm_2030_alpha.max().max()"
   ]
  },
  {
   "cell_type": "code",
   "execution_count": null,
   "metadata": {
    "collapsed": true
   },
   "outputs": [],
   "source": [
    "# tm_2040\n",
    "tm_2040 /= 1000\n",
    "tm_2040_norm = tm_2040 ** (10/11)\n",
    "tm_2040_norm = tm_2040_norm.round(1)\n",
    "tm_2040_alpha = tm_2040 ** (1/3)\n",
    "tm_2040_alpha = tm_2040_alpha / tm_2040_alpha.max().max()"
   ]
  },
  {
   "cell_type": "code",
   "execution_count": null,
   "metadata": {
    "collapsed": true
   },
   "outputs": [],
   "source": [
    "# tm_2050\n",
    "tm_2050 /= 1000\n",
    "tm_2050_norm = tm_2050 ** (10/11)\n",
    "tm_2050_norm = tm_2050_norm.round(1)\n",
    "tm_2050_alpha = tm_2050 ** (1/3)\n",
    "tm_2050_alpha = tm_2050_alpha / tm_2050_alpha.max().max()"
   ]
  },
  {
   "cell_type": "markdown",
   "metadata": {},
   "source": [
    "## Plotting"
   ]
  },
  {
   "cell_type": "markdown",
   "metadata": {},
   "source": [
    "### Exogenous Transmission Capacities 2025"
   ]
  },
  {
   "cell_type": "code",
   "execution_count": null,
   "metadata": {
    "collapsed": true
   },
   "outputs": [],
   "source": [
    "# Set names\n",
    "name = 'tc_2025'\n",
    "year = '2025'\n",
    "title = 'Exogenouse Transmission Capacity ' + year + ' [GW]'"
   ]
  },
  {
   "cell_type": "code",
   "execution_count": null,
   "metadata": {
    "collapsed": true
   },
   "outputs": [],
   "source": [
    "# Width\n",
    "ctc_wdth = ctc * 15\n",
    "\n",
    "# Color\n",
    "ctc_alph = ctc_alpha"
   ]
  },
  {
   "cell_type": "code",
   "execution_count": null,
   "metadata": {
    "collapsed": true
   },
   "outputs": [],
   "source": [
    "# Plot image\n",
    "fig, ax = plt.subplots()\n",
    "ax.axis('off')\n",
    "ax.imshow(img, aspect='auto')\n",
    "fig.set_size_inches(16, 16)\n",
    "\n",
    "plt.title(title)\n",
    "\n",
    "delta = 5\n",
    "head_length = 75\n",
    "fc = 'darkred'\n",
    "legend_pos = 500\n",
    "\n",
    "# Draw arrows\n",
    "for c in ccc:\n",
    "    notc = ccc[ccc!=c]\n",
    "    for n in notc:\n",
    "        width = ctc_wdth[c][n]\n",
    "        alpha = ctc_alph[c][n]\n",
    "        ax.arrow(x=arrows.loc[c][n]['x'],\n",
    "                 y=arrows.loc[c][n]['y'],\n",
    "                 dx=arrows.loc[c][n]['dx'],\n",
    "                 dy=arrows.loc[c][n]['dy'],\n",
    "                 width=width,\n",
    "                 alpha=alpha,\n",
    "                 head_width = 2 * width,\n",
    "                 head_length=head_length,\n",
    "                 length_includes_head=True,\n",
    "                 shape='left',\n",
    "                 fc=fc,\n",
    "                 ec=fc\n",
    "                )\n",
    "        plt.text(0, legend_pos,\n",
    "                 c + '-' + n + ': ' + '{}'.format(ctc[c][n]),\n",
    "                 {'color': 'black', 'fontsize': 22})\n",
    "        legend_pos += 75\n",
    "    legend_pos += 50\n",
    "\n",
    "\n",
    "# Save plot\n",
    "plt.savefig('output/{}.png'.format(name), transparent=True, compression=None)"
   ]
  },
  {
   "cell_type": "markdown",
   "metadata": {},
   "source": [
    "### Transmission Sample Data 2016"
   ]
  },
  {
   "cell_type": "code",
   "execution_count": null,
   "metadata": {
    "collapsed": true
   },
   "outputs": [],
   "source": [
    "# Set names\n",
    "name = 'tm_2016'\n",
    "year = '2016'\n",
    "title = 'Transmission ' + year + ' [TWh], marathon'"
   ]
  },
  {
   "cell_type": "code",
   "execution_count": null,
   "metadata": {
    "collapsed": true
   },
   "outputs": [],
   "source": [
    "# Width\n",
    "td_wdth = td_norm * 1.5\n",
    "\n",
    "# Color\n",
    "td_alph = td_alpha\n",
    "\n",
    "# Values as integers\n",
    "td[:] = td[:].astype(int)"
   ]
  },
  {
   "cell_type": "code",
   "execution_count": null,
   "metadata": {
    "collapsed": true,
    "scrolled": false
   },
   "outputs": [],
   "source": [
    "# Plot image\n",
    "fig, ax = plt.subplots()\n",
    "ax.axis('off')\n",
    "ax.imshow(img, aspect='auto')\n",
    "fig.set_size_inches(16, 16)\n",
    "\n",
    "plt.title(title)\n",
    "\n",
    "delta = 5\n",
    "head_length = 75\n",
    "fc = 'darkred'\n",
    "legend_pos = 500\n",
    "\n",
    "# Draw arrows\n",
    "for c in ccc:\n",
    "    notc = ccc[ccc!=c]\n",
    "    for n in notc:\n",
    "        width = td_wdth[c][n]\n",
    "        alpha = td_alph[c][n]\n",
    "        ax.arrow(x=arrows.loc[c][n]['x'],\n",
    "                 y=arrows.loc[c][n]['y'],\n",
    "                 dx=arrows.loc[c][n]['dx'],\n",
    "                 dy=arrows.loc[c][n]['dy'],\n",
    "                 width=width,\n",
    "                 alpha=alpha,\n",
    "                 head_width = 2 * width,\n",
    "                 head_length=head_length,\n",
    "                 length_includes_head=True,\n",
    "                 shape='left',\n",
    "                 fc=fc,\n",
    "                 ec=fc\n",
    "                )\n",
    "        plt.text(0, legend_pos,\n",
    "                 c + '-' + n + ': ' + '{}'.format(ctc[c][n]),\n",
    "                 {'color': 'black', 'fontsize': 22}\n",
    "                )\n",
    "        legend_pos += 75\n",
    "    legend_pos += 50\n",
    "\n",
    "\n",
    "# Save plot\n",
    "plt.savefig('output/{}.png'.format(name), transparent=True, compression=None)"
   ]
  },
  {
   "cell_type": "markdown",
   "metadata": {},
   "source": [
    "### Transmission Plot"
   ]
  },
  {
   "cell_type": "code",
   "execution_count": null,
   "metadata": {
    "collapsed": true
   },
   "outputs": [],
   "source": [
    "# Select dataframe\n",
    "name = 'tm_2020'\n",
    "year = '2020'\n",
    "title = 'Transmission ' + year + ' [TWh], late sprint'\n",
    "\n",
    "td = tm_2020.fillna(0)\n",
    "td_norm = tm_2020_norm\n",
    "td_alph = tm_2020_alpha"
   ]
  },
  {
   "cell_type": "code",
   "execution_count": null,
   "metadata": {
    "collapsed": true
   },
   "outputs": [],
   "source": [
    "# Width\n",
    "td_wdth = td_norm * 5\n",
    "\n",
    "# Color\n",
    "td_alph = td_alpha\n",
    "\n",
    "# Round values\n",
    "td = td.round(1)"
   ]
  },
  {
   "cell_type": "code",
   "execution_count": null,
   "metadata": {
    "collapsed": true
   },
   "outputs": [],
   "source": [
    "# Plot image\n",
    "fig, ax = plt.subplots()\n",
    "ax.axis('off')\n",
    "ax.imshow(img, aspect='auto')\n",
    "fig.set_size_inches(16, 16)\n",
    "\n",
    "plt.title(title)\n",
    "\n",
    "delta = 5\n",
    "head_length = 75\n",
    "fc = 'darkred'\n",
    "legend_pos = 500\n",
    "\n",
    "# Draw arrows\n",
    "for c in ccc:\n",
    "    notc = ccc[ccc!=c]\n",
    "    for n in notc:\n",
    "        width = td_wdth[c][n]\n",
    "        alpha = td_alph[c][n]\n",
    "        ax.arrow(x=arrows.loc[c][n]['x'],\n",
    "                 y=arrows.loc[c][n]['y'],\n",
    "                 dx=arrows.loc[c][n]['dx'],\n",
    "                 dy=arrows.loc[c][n]['dy'],\n",
    "                 width=width,\n",
    "                 alpha=alpha,\n",
    "                 head_width = 2 * width,\n",
    "                 head_length=head_length,\n",
    "                 length_includes_head=True,\n",
    "                 shape='left',\n",
    "                 fc=fc,\n",
    "                 ec=fc\n",
    "                )\n",
    "        plt.text(0, legend_pos,\n",
    "                 c + '-' + n + ': ' + '{}'.format(td[c][n]),\n",
    "                 {'color': 'black', 'fontsize': 22}\n",
    "                )\n",
    "        legend_pos += 75\n",
    "    legend_pos += 50\n",
    "\n",
    "\n",
    "# Save plot\n",
    "plt.savefig('output/{}.png'.format(name), transparent=True, compression=None)"
   ]
  }
 ],
 "metadata": {
  "kernelspec": {
   "display_name": "Python 3",
   "language": "python",
   "name": "python3"
  },
  "language_info": {
   "codemirror_mode": {
    "name": "ipython",
    "version": 3
   },
   "file_extension": ".py",
   "mimetype": "text/x-python",
   "name": "python",
   "nbconvert_exporter": "python",
   "pygments_lexer": "ipython3",
   "version": "3.6.3"
  }
 },
 "nbformat": 4,
 "nbformat_minor": 2
}
